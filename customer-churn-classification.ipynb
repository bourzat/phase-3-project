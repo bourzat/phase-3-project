{
 "cells": [
  {
   "cell_type": "markdown",
   "id": "a173ca3c-eaa1-408b-bdd1-c58143622eca",
   "metadata": {},
   "source": [
    "# **SyriaTel Customer Churn Prediction**"
   ]
  },
  {
   "cell_type": "markdown",
   "id": "dc85266d-4030-46f6-9c1c-5d53a75b5b9a",
   "metadata": {},
   "source": [
    "## **1. Introduction**\n",
    "\n",
    "Customer churn is a significant challenge for many businesses, especially in highly competitive industries like telecommunications. Churn refers to the phenomenon where customers stop doing business with a company. Predicting churn is crucial as it allows businesses to take proactive steps to retain customers, thus reducing loss and increasing profitability.\n",
    "\n",
    "In this project, we aim to develop a machine learning model to predict whether a customer will stop using SyriaTel's services in the near future. By identifying patterns in customer behavior, the model will help SyriaTel's marketing and customer service teams focus their retention efforts on customers most likely to churn.\n",
    "\n",
    "---"
   ]
  },
  {
   "cell_type": "markdown",
   "id": "3e7aa4e2-b52d-45e8-a601-0c30dda5e02e",
   "metadata": {},
   "source": [
    "## **2. CRISP-DM Process Overview**\n",
    "\n",
    "This project follows the **CRISP-DM (Cross-Industry Standard Process for Data Mining)** methodology, a widely used process model in data science. CRISP-DM is iterative and flexible, making it ideal for addressing complex data science problems. The process involves six main phases:\n",
    "\n",
    "1. **Business Understanding**\n",
    "2. **Data Understanding**\n",
    "3. **Data Preparation**\n",
    "4. **Modeling**\n",
    "5. **Evaluation**\n",
    "6. **Deployment**\n",
    "\n",
    "Each of these phases will be detailed throughout this notebook.\n",
    "\n",
    "---"
   ]
  },
  {
   "cell_type": "markdown",
   "id": "88568497-2090-4ed6-8fb4-a2ea2863bf3f",
   "metadata": {},
   "source": [
    "## **3. Business Understanding**\n",
    "\n",
    "### **3.1 Objective**\n",
    "The primary goal of this project is to predict customer churn for SyriaTel, a telecommunications company. By accurately predicting which customers are likely to churn, SyriaTel can implement targeted retention strategies to reduce churn rates and improve customer loyalty.\n",
    "\n",
    "### **3.2 Stakeholders**\n",
    "- **Marketing Team:** To develop personalized offers and incentives to retain at-risk customers.\n",
    "- **Customer Service Team:** To proactively reach out to at-risk customers to address any service issues or concerns.\n",
    "- **Business Executives:** To understand the factors driving churn and make strategic decisions to enhance customer satisfaction.\n",
    "\n",
    "### **3.3 Business Problem**\n",
    "SyriaTel is losing customers at a significant rate, which is affecting its profitability and market share. The key business problem is to identify which customers are at the highest risk of churning so that the company can take preemptive measures to retain them.\n",
    "\n",
    "### **3.4 Project Scope**\n",
    "- **In Scope:** Building a classification model to predict customer churn based on historical data.\n",
    "- **Out of Scope:** Implementing retention strategies or analyzing other forms of customer dissatisfaction not directly related to churn.\n",
    "\n",
    "### **3.5 Success Criteria**\n",
    "- **Primary Metric:** Model accuracy and precision in identifying at-risk customers.\n",
    "- **Secondary Metric:** Business impact, measured by the reduction in churn rate after implementing model-driven strategies.\n",
    "\n",
    "---"
   ]
  },
  {
   "cell_type": "markdown",
   "id": "5c9f9f21-ae9d-4277-8285-d33a1e8c5ddc",
   "metadata": {},
   "source": [
    "## **4. Data Understanding**\n",
    "\n",
    "*This section will cover an in-depth exploration of the dataset, including the data sources, key features, and initial observations.*\n",
    "___"
   ]
  },
  {
   "cell_type": "code",
   "execution_count": null,
   "id": "cbc0e942-cf53-4703-8b70-75ddbbd92b60",
   "metadata": {},
   "outputs": [],
   "source": []
  },
  {
   "cell_type": "code",
   "execution_count": null,
   "id": "e220c5ff-80a6-4a92-abc9-9577988931e8",
   "metadata": {},
   "outputs": [],
   "source": []
  },
  {
   "cell_type": "code",
   "execution_count": null,
   "id": "c37c03b7-cc88-4ed2-8280-38637d81f3d9",
   "metadata": {},
   "outputs": [],
   "source": []
  },
  {
   "cell_type": "code",
   "execution_count": null,
   "id": "47c9a29e-6c3d-453b-8670-1fe0c84b5c36",
   "metadata": {},
   "outputs": [],
   "source": []
  },
  {
   "cell_type": "markdown",
   "id": "c3928fa8-80bf-472a-8b29-258d681c0867",
   "metadata": {},
   "source": [
    "## **5. Data Preparation**\n",
    "\n",
    "*Here, we'll process and clean the data, handling any missing values, converting data types, and preparing the dataset for modeling.*\n",
    "\n",
    "---"
   ]
  },
  {
   "cell_type": "code",
   "execution_count": null,
   "id": "7ec31852-b78f-44a4-97a6-0e53ece37a8c",
   "metadata": {},
   "outputs": [],
   "source": []
  }
 ],
 "metadata": {
  "kernelspec": {
   "display_name": "Python 3 (ipykernel)",
   "language": "python",
   "name": "python3"
  },
  "language_info": {
   "codemirror_mode": {
    "name": "ipython",
    "version": 3
   },
   "file_extension": ".py",
   "mimetype": "text/x-python",
   "name": "python",
   "nbconvert_exporter": "python",
   "pygments_lexer": "ipython3",
   "version": "3.11.7"
  }
 },
 "nbformat": 4,
 "nbformat_minor": 5
}
