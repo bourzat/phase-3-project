{
 "cells": [
  {
   "cell_type": "markdown",
   "id": "a173ca3c-eaa1-408b-bdd1-c58143622eca",
   "metadata": {},
   "source": [
    "# **SyriaTel Customer Churn Prediction**"
   ]
  },
  {
   "cell_type": "markdown",
   "id": "dc85266d-4030-46f6-9c1c-5d53a75b5b9a",
   "metadata": {},
   "source": [
    "## **1. Introduction**\n",
    "\n",
    "Customer churn is a significant challenge for many businesses, especially in highly competitive industries like telecommunications. Churn refers to the phenomenon where customers stop doing business with a company. Predicting churn is crucial as it allows businesses to take proactive steps to retain customers, thus reducing loss and increasing profitability.\n",
    "\n",
    "In this project, we aim to develop a machine learning model to predict whether a customer will stop using SyriaTel's services in the near future. By identifying patterns in customer behavior, the model will help SyriaTel's marketing and customer service teams focus their retention efforts on customers most likely to churn.\n",
    "\n",
    "---"
   ]
  },
  {
   "cell_type": "markdown",
   "id": "3e7aa4e2-b52d-45e8-a601-0c30dda5e02e",
   "metadata": {},
   "source": [
    "## **2. CRISP-DM Process Overview**\n",
    "\n",
    "This project follows the **CRISP-DM (Cross-Industry Standard Process for Data Mining)** methodology, a widely used process model in data science. CRISP-DM is iterative and flexible, making it ideal for addressing complex data science problems. The process involves six main phases:\n",
    "\n",
    "1. **Business Understanding**\n",
    "2. **Data Understanding**\n",
    "3. **Data Preparation**\n",
    "4. **Modeling**\n",
    "5. **Evaluation**\n",
    "6. **Deployment**\n",
    "\n",
    "Each of these phases will be detailed throughout this notebook.\n",
    "\n",
    "---"
   ]
  },
  {
   "cell_type": "code",
   "execution_count": null,
   "id": "f0f94d63-eda2-4c6b-a157-ea8226694cb5",
   "metadata": {},
   "outputs": [],
   "source": []
  }
 ],
 "metadata": {
  "kernelspec": {
   "display_name": "Python 3 (ipykernel)",
   "language": "python",
   "name": "python3"
  },
  "language_info": {
   "codemirror_mode": {
    "name": "ipython",
    "version": 3
   },
   "file_extension": ".py",
   "mimetype": "text/x-python",
   "name": "python",
   "nbconvert_exporter": "python",
   "pygments_lexer": "ipython3",
   "version": "3.11.7"
  }
 },
 "nbformat": 4,
 "nbformat_minor": 5
}
