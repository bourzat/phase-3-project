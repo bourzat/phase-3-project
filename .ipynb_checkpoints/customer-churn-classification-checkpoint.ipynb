{
 "cells": [
  {
   "cell_type": "markdown",
   "id": "a173ca3c-eaa1-408b-bdd1-c58143622eca",
   "metadata": {},
   "source": [
    "# **SyriaTel Customer Churn Prediction**"
   ]
  },
  {
   "cell_type": "code",
   "execution_count": null,
   "id": "882df283-f2a9-42f3-ad28-2b6cfda630ea",
   "metadata": {},
   "outputs": [],
   "source": []
  }
 ],
 "metadata": {
  "kernelspec": {
   "display_name": "Python 3 (ipykernel)",
   "language": "python",
   "name": "python3"
  },
  "language_info": {
   "codemirror_mode": {
    "name": "ipython",
    "version": 3
   },
   "file_extension": ".py",
   "mimetype": "text/x-python",
   "name": "python",
   "nbconvert_exporter": "python",
   "pygments_lexer": "ipython3",
   "version": "3.11.7"
  }
 },
 "nbformat": 4,
 "nbformat_minor": 5
}
